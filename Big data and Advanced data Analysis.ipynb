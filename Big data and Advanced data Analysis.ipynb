{
 "cells": [
  {
   "cell_type": "code",
   "execution_count": 1,
   "id": "f232dc34",
   "metadata": {},
   "outputs": [],
   "source": [
    "import pandas as pd\n",
    "import numpy as np\n",
    "import matplotlib.pyplot as plt\n",
    "import matplotlib.image as mpimg\n",
    "%matplotlib inline\n",
    "import seaborn as sns\n",
    "import warnings\n",
    "warnings.filterwarnings('ignore')\n",
    "import statistics as stats\n",
    "from statsmodels.stats import weightstats\n",
    "from datetime import datetime\n",
    "import sklearn.preprocessing as preproc"
   ]
  },
  {
   "cell_type": "code",
   "execution_count": 3,
   "id": "8a444bdd",
   "metadata": {},
   "outputs": [],
   "source": [
    "df_training = pd.read_csv('all_stocks_2006-01-01_to_2018-01-01.csv')"
   ]
  },
  {
   "cell_type": "code",
   "execution_count": 4,
   "id": "499d17bc",
   "metadata": {},
   "outputs": [
    {
     "data": {
      "text/html": [
       "<div>\n",
       "<style scoped>\n",
       "    .dataframe tbody tr th:only-of-type {\n",
       "        vertical-align: middle;\n",
       "    }\n",
       "\n",
       "    .dataframe tbody tr th {\n",
       "        vertical-align: top;\n",
       "    }\n",
       "\n",
       "    .dataframe thead th {\n",
       "        text-align: right;\n",
       "    }\n",
       "</style>\n",
       "<table border=\"1\" class=\"dataframe\">\n",
       "  <thead>\n",
       "    <tr style=\"text-align: right;\">\n",
       "      <th></th>\n",
       "      <th>Date</th>\n",
       "      <th>Open</th>\n",
       "      <th>High</th>\n",
       "      <th>Low</th>\n",
       "      <th>Close</th>\n",
       "      <th>Volume</th>\n",
       "      <th>Name</th>\n",
       "    </tr>\n",
       "  </thead>\n",
       "  <tbody>\n",
       "    <tr>\n",
       "      <th>0</th>\n",
       "      <td>2006-01-03</td>\n",
       "      <td>77.76</td>\n",
       "      <td>79.35</td>\n",
       "      <td>77.24</td>\n",
       "      <td>79.11</td>\n",
       "      <td>3117200</td>\n",
       "      <td>MMM</td>\n",
       "    </tr>\n",
       "    <tr>\n",
       "      <th>1</th>\n",
       "      <td>2006-01-04</td>\n",
       "      <td>79.49</td>\n",
       "      <td>79.49</td>\n",
       "      <td>78.25</td>\n",
       "      <td>78.71</td>\n",
       "      <td>2558000</td>\n",
       "      <td>MMM</td>\n",
       "    </tr>\n",
       "    <tr>\n",
       "      <th>2</th>\n",
       "      <td>2006-01-05</td>\n",
       "      <td>78.41</td>\n",
       "      <td>78.65</td>\n",
       "      <td>77.56</td>\n",
       "      <td>77.99</td>\n",
       "      <td>2529500</td>\n",
       "      <td>MMM</td>\n",
       "    </tr>\n",
       "    <tr>\n",
       "      <th>3</th>\n",
       "      <td>2006-01-06</td>\n",
       "      <td>78.64</td>\n",
       "      <td>78.90</td>\n",
       "      <td>77.64</td>\n",
       "      <td>78.63</td>\n",
       "      <td>2479500</td>\n",
       "      <td>MMM</td>\n",
       "    </tr>\n",
       "    <tr>\n",
       "      <th>4</th>\n",
       "      <td>2006-01-09</td>\n",
       "      <td>78.50</td>\n",
       "      <td>79.83</td>\n",
       "      <td>78.46</td>\n",
       "      <td>79.02</td>\n",
       "      <td>1845600</td>\n",
       "      <td>MMM</td>\n",
       "    </tr>\n",
       "    <tr>\n",
       "      <th>5</th>\n",
       "      <td>2006-01-10</td>\n",
       "      <td>79.00</td>\n",
       "      <td>79.01</td>\n",
       "      <td>78.08</td>\n",
       "      <td>78.53</td>\n",
       "      <td>1919900</td>\n",
       "      <td>MMM</td>\n",
       "    </tr>\n",
       "    <tr>\n",
       "      <th>6</th>\n",
       "      <td>2006-01-11</td>\n",
       "      <td>78.44</td>\n",
       "      <td>78.66</td>\n",
       "      <td>77.84</td>\n",
       "      <td>78.37</td>\n",
       "      <td>1911900</td>\n",
       "      <td>MMM</td>\n",
       "    </tr>\n",
       "    <tr>\n",
       "      <th>7</th>\n",
       "      <td>2006-01-12</td>\n",
       "      <td>78.20</td>\n",
       "      <td>78.23</td>\n",
       "      <td>77.20</td>\n",
       "      <td>77.70</td>\n",
       "      <td>2121100</td>\n",
       "      <td>MMM</td>\n",
       "    </tr>\n",
       "    <tr>\n",
       "      <th>8</th>\n",
       "      <td>2006-01-13</td>\n",
       "      <td>76.95</td>\n",
       "      <td>78.20</td>\n",
       "      <td>76.95</td>\n",
       "      <td>77.50</td>\n",
       "      <td>1925300</td>\n",
       "      <td>MMM</td>\n",
       "    </tr>\n",
       "    <tr>\n",
       "      <th>9</th>\n",
       "      <td>2006-01-17</td>\n",
       "      <td>77.10</td>\n",
       "      <td>77.62</td>\n",
       "      <td>77.00</td>\n",
       "      <td>77.09</td>\n",
       "      <td>2073400</td>\n",
       "      <td>MMM</td>\n",
       "    </tr>\n",
       "  </tbody>\n",
       "</table>\n",
       "</div>"
      ],
      "text/plain": [
       "         Date   Open   High    Low  Close   Volume Name\n",
       "0  2006-01-03  77.76  79.35  77.24  79.11  3117200  MMM\n",
       "1  2006-01-04  79.49  79.49  78.25  78.71  2558000  MMM\n",
       "2  2006-01-05  78.41  78.65  77.56  77.99  2529500  MMM\n",
       "3  2006-01-06  78.64  78.90  77.64  78.63  2479500  MMM\n",
       "4  2006-01-09  78.50  79.83  78.46  79.02  1845600  MMM\n",
       "5  2006-01-10  79.00  79.01  78.08  78.53  1919900  MMM\n",
       "6  2006-01-11  78.44  78.66  77.84  78.37  1911900  MMM\n",
       "7  2006-01-12  78.20  78.23  77.20  77.70  2121100  MMM\n",
       "8  2006-01-13  76.95  78.20  76.95  77.50  1925300  MMM\n",
       "9  2006-01-17  77.10  77.62  77.00  77.09  2073400  MMM"
      ]
     },
     "execution_count": 4,
     "metadata": {},
     "output_type": "execute_result"
    }
   ],
   "source": [
    "df_training.head(10)"
   ]
  },
  {
   "cell_type": "code",
   "execution_count": 5,
   "id": "8e87afec",
   "metadata": {},
   "outputs": [
    {
     "data": {
      "text/html": [
       "<div>\n",
       "<style scoped>\n",
       "    .dataframe tbody tr th:only-of-type {\n",
       "        vertical-align: middle;\n",
       "    }\n",
       "\n",
       "    .dataframe tbody tr th {\n",
       "        vertical-align: top;\n",
       "    }\n",
       "\n",
       "    .dataframe thead th {\n",
       "        text-align: right;\n",
       "    }\n",
       "</style>\n",
       "<table border=\"1\" class=\"dataframe\">\n",
       "  <thead>\n",
       "    <tr style=\"text-align: right;\">\n",
       "      <th></th>\n",
       "      <th>Date</th>\n",
       "      <th>Open</th>\n",
       "      <th>High</th>\n",
       "      <th>Low</th>\n",
       "      <th>Close</th>\n",
       "      <th>Volume</th>\n",
       "      <th>Name</th>\n",
       "    </tr>\n",
       "  </thead>\n",
       "  <tbody>\n",
       "    <tr>\n",
       "      <th>93602</th>\n",
       "      <td>2017-12-15</td>\n",
       "      <td>69.35</td>\n",
       "      <td>70.54</td>\n",
       "      <td>68.66</td>\n",
       "      <td>70.29</td>\n",
       "      <td>19517623</td>\n",
       "      <td>AABA</td>\n",
       "    </tr>\n",
       "    <tr>\n",
       "      <th>93603</th>\n",
       "      <td>2017-12-18</td>\n",
       "      <td>70.54</td>\n",
       "      <td>70.74</td>\n",
       "      <td>69.95</td>\n",
       "      <td>70.14</td>\n",
       "      <td>6776982</td>\n",
       "      <td>AABA</td>\n",
       "    </tr>\n",
       "    <tr>\n",
       "      <th>93604</th>\n",
       "      <td>2017-12-19</td>\n",
       "      <td>69.70</td>\n",
       "      <td>70.36</td>\n",
       "      <td>69.38</td>\n",
       "      <td>70.21</td>\n",
       "      <td>14654994</td>\n",
       "      <td>AABA</td>\n",
       "    </tr>\n",
       "    <tr>\n",
       "      <th>93605</th>\n",
       "      <td>2017-12-20</td>\n",
       "      <td>70.60</td>\n",
       "      <td>71.05</td>\n",
       "      <td>70.17</td>\n",
       "      <td>70.90</td>\n",
       "      <td>12888149</td>\n",
       "      <td>AABA</td>\n",
       "    </tr>\n",
       "    <tr>\n",
       "      <th>93606</th>\n",
       "      <td>2017-12-21</td>\n",
       "      <td>71.00</td>\n",
       "      <td>72.17</td>\n",
       "      <td>70.88</td>\n",
       "      <td>71.59</td>\n",
       "      <td>9682733</td>\n",
       "      <td>AABA</td>\n",
       "    </tr>\n",
       "    <tr>\n",
       "      <th>93607</th>\n",
       "      <td>2017-12-22</td>\n",
       "      <td>71.42</td>\n",
       "      <td>71.87</td>\n",
       "      <td>71.22</td>\n",
       "      <td>71.58</td>\n",
       "      <td>10979165</td>\n",
       "      <td>AABA</td>\n",
       "    </tr>\n",
       "    <tr>\n",
       "      <th>93608</th>\n",
       "      <td>2017-12-26</td>\n",
       "      <td>70.94</td>\n",
       "      <td>71.39</td>\n",
       "      <td>69.63</td>\n",
       "      <td>69.86</td>\n",
       "      <td>8542802</td>\n",
       "      <td>AABA</td>\n",
       "    </tr>\n",
       "    <tr>\n",
       "      <th>93609</th>\n",
       "      <td>2017-12-27</td>\n",
       "      <td>69.77</td>\n",
       "      <td>70.49</td>\n",
       "      <td>69.69</td>\n",
       "      <td>70.06</td>\n",
       "      <td>6345124</td>\n",
       "      <td>AABA</td>\n",
       "    </tr>\n",
       "    <tr>\n",
       "      <th>93610</th>\n",
       "      <td>2017-12-28</td>\n",
       "      <td>70.12</td>\n",
       "      <td>70.32</td>\n",
       "      <td>69.51</td>\n",
       "      <td>69.82</td>\n",
       "      <td>7556877</td>\n",
       "      <td>AABA</td>\n",
       "    </tr>\n",
       "    <tr>\n",
       "      <th>93611</th>\n",
       "      <td>2017-12-29</td>\n",
       "      <td>69.79</td>\n",
       "      <td>70.13</td>\n",
       "      <td>69.43</td>\n",
       "      <td>69.85</td>\n",
       "      <td>6613070</td>\n",
       "      <td>AABA</td>\n",
       "    </tr>\n",
       "  </tbody>\n",
       "</table>\n",
       "</div>"
      ],
      "text/plain": [
       "             Date   Open   High    Low  Close    Volume  Name\n",
       "93602  2017-12-15  69.35  70.54  68.66  70.29  19517623  AABA\n",
       "93603  2017-12-18  70.54  70.74  69.95  70.14   6776982  AABA\n",
       "93604  2017-12-19  69.70  70.36  69.38  70.21  14654994  AABA\n",
       "93605  2017-12-20  70.60  71.05  70.17  70.90  12888149  AABA\n",
       "93606  2017-12-21  71.00  72.17  70.88  71.59   9682733  AABA\n",
       "93607  2017-12-22  71.42  71.87  71.22  71.58  10979165  AABA\n",
       "93608  2017-12-26  70.94  71.39  69.63  69.86   8542802  AABA\n",
       "93609  2017-12-27  69.77  70.49  69.69  70.06   6345124  AABA\n",
       "93610  2017-12-28  70.12  70.32  69.51  69.82   7556877  AABA\n",
       "93611  2017-12-29  69.79  70.13  69.43  69.85   6613070  AABA"
      ]
     },
     "execution_count": 5,
     "metadata": {},
     "output_type": "execute_result"
    }
   ],
   "source": [
    "df_training.tail(10)"
   ]
  },
  {
   "cell_type": "code",
   "execution_count": 6,
   "id": "9832ad1b",
   "metadata": {},
   "outputs": [
    {
     "data": {
      "text/plain": [
       "(93612, 7)"
      ]
     },
     "execution_count": 6,
     "metadata": {},
     "output_type": "execute_result"
    }
   ],
   "source": [
    "df_training.shape"
   ]
  },
  {
   "cell_type": "code",
   "execution_count": 7,
   "id": "55113903",
   "metadata": {},
   "outputs": [],
   "source": [
    "#import seaborn as sns\n",
    "#sns.pairplot(df_train)"
   ]
  },
  {
   "cell_type": "code",
   "execution_count": 8,
   "id": "ba64ddbc",
   "metadata": {},
   "outputs": [
    {
     "data": {
      "text/plain": [
       "Date      False\n",
       "Open       True\n",
       "High       True\n",
       "Low        True\n",
       "Close     False\n",
       "Volume    False\n",
       "Name      False\n",
       "dtype: bool"
      ]
     },
     "execution_count": 8,
     "metadata": {},
     "output_type": "execute_result"
    }
   ],
   "source": [
    "df_training.isnull().any()"
   ]
  },
  {
   "cell_type": "code",
   "execution_count": 9,
   "id": "bc46a86a",
   "metadata": {},
   "outputs": [
    {
     "data": {
      "text/plain": [
       "Date       0\n",
       "Open      25\n",
       "High      10\n",
       "Low       20\n",
       "Close      0\n",
       "Volume     0\n",
       "Name       0\n",
       "dtype: int64"
      ]
     },
     "execution_count": 9,
     "metadata": {},
     "output_type": "execute_result"
    }
   ],
   "source": [
    "df_training.isnull().sum()"
   ]
  },
  {
   "cell_type": "code",
   "execution_count": 10,
   "id": "8d9bff4b",
   "metadata": {},
   "outputs": [],
   "source": [
    "df_training = df_training.dropna(axis=0)"
   ]
  },
  {
   "cell_type": "code",
   "execution_count": 11,
   "id": "3f0d74ca",
   "metadata": {},
   "outputs": [
    {
     "data": {
      "text/html": [
       "<div>\n",
       "<style scoped>\n",
       "    .dataframe tbody tr th:only-of-type {\n",
       "        vertical-align: middle;\n",
       "    }\n",
       "\n",
       "    .dataframe tbody tr th {\n",
       "        vertical-align: top;\n",
       "    }\n",
       "\n",
       "    .dataframe thead th {\n",
       "        text-align: right;\n",
       "    }\n",
       "</style>\n",
       "<table border=\"1\" class=\"dataframe\">\n",
       "  <thead>\n",
       "    <tr style=\"text-align: right;\">\n",
       "      <th></th>\n",
       "      <th>Open</th>\n",
       "      <th>High</th>\n",
       "      <th>Low</th>\n",
       "      <th>Close</th>\n",
       "      <th>Volume</th>\n",
       "    </tr>\n",
       "  </thead>\n",
       "  <tbody>\n",
       "    <tr>\n",
       "      <th>count</th>\n",
       "      <td>93587.000000</td>\n",
       "      <td>93587.000000</td>\n",
       "      <td>93587.000000</td>\n",
       "      <td>93587.000000</td>\n",
       "      <td>9.358700e+04</td>\n",
       "    </tr>\n",
       "    <tr>\n",
       "      <th>mean</th>\n",
       "      <td>85.623260</td>\n",
       "      <td>86.382961</td>\n",
       "      <td>84.836485</td>\n",
       "      <td>85.634973</td>\n",
       "      <td>2.015982e+07</td>\n",
       "    </tr>\n",
       "    <tr>\n",
       "      <th>std</th>\n",
       "      <td>108.151723</td>\n",
       "      <td>108.962620</td>\n",
       "      <td>107.227791</td>\n",
       "      <td>108.130598</td>\n",
       "      <td>3.442490e+07</td>\n",
       "    </tr>\n",
       "    <tr>\n",
       "      <th>min</th>\n",
       "      <td>6.750000</td>\n",
       "      <td>7.170000</td>\n",
       "      <td>0.000000</td>\n",
       "      <td>6.660000</td>\n",
       "      <td>8.708300e+04</td>\n",
       "    </tr>\n",
       "    <tr>\n",
       "      <th>25%</th>\n",
       "      <td>33.950000</td>\n",
       "      <td>34.290000</td>\n",
       "      <td>33.600000</td>\n",
       "      <td>33.950000</td>\n",
       "      <td>5.040876e+06</td>\n",
       "    </tr>\n",
       "    <tr>\n",
       "      <th>50%</th>\n",
       "      <td>60.040000</td>\n",
       "      <td>60.620000</td>\n",
       "      <td>59.490000</td>\n",
       "      <td>60.040000</td>\n",
       "      <td>9.702410e+06</td>\n",
       "    </tr>\n",
       "    <tr>\n",
       "      <th>75%</th>\n",
       "      <td>94.000000</td>\n",
       "      <td>94.740000</td>\n",
       "      <td>93.250000</td>\n",
       "      <td>94.000000</td>\n",
       "      <td>2.075386e+07</td>\n",
       "    </tr>\n",
       "    <tr>\n",
       "      <th>max</th>\n",
       "      <td>1204.880000</td>\n",
       "      <td>1213.410000</td>\n",
       "      <td>1191.150000</td>\n",
       "      <td>1195.830000</td>\n",
       "      <td>8.432640e+08</td>\n",
       "    </tr>\n",
       "  </tbody>\n",
       "</table>\n",
       "</div>"
      ],
      "text/plain": [
       "               Open          High           Low         Close        Volume\n",
       "count  93587.000000  93587.000000  93587.000000  93587.000000  9.358700e+04\n",
       "mean      85.623260     86.382961     84.836485     85.634973  2.015982e+07\n",
       "std      108.151723    108.962620    107.227791    108.130598  3.442490e+07\n",
       "min        6.750000      7.170000      0.000000      6.660000  8.708300e+04\n",
       "25%       33.950000     34.290000     33.600000     33.950000  5.040876e+06\n",
       "50%       60.040000     60.620000     59.490000     60.040000  9.702410e+06\n",
       "75%       94.000000     94.740000     93.250000     94.000000  2.075386e+07\n",
       "max     1204.880000   1213.410000   1191.150000   1195.830000  8.432640e+08"
      ]
     },
     "execution_count": 11,
     "metadata": {},
     "output_type": "execute_result"
    }
   ],
   "source": [
    "df_training.describe()"
   ]
  },
  {
   "cell_type": "code",
   "execution_count": 12,
   "id": "2e723e1e",
   "metadata": {},
   "outputs": [
    {
     "name": "stdout",
     "output_type": "stream",
     "text": [
      "<class 'pandas.core.frame.DataFrame'>\n",
      "Int64Index: 93587 entries, 0 to 93611\n",
      "Data columns (total 7 columns):\n",
      " #   Column  Non-Null Count  Dtype  \n",
      "---  ------  --------------  -----  \n",
      " 0   Date    93587 non-null  object \n",
      " 1   Open    93587 non-null  float64\n",
      " 2   High    93587 non-null  float64\n",
      " 3   Low     93587 non-null  float64\n",
      " 4   Close   93587 non-null  float64\n",
      " 5   Volume  93587 non-null  int64  \n",
      " 6   Name    93587 non-null  object \n",
      "dtypes: float64(4), int64(1), object(2)\n",
      "memory usage: 5.7+ MB\n"
     ]
    }
   ],
   "source": [
    "df_training.info()"
   ]
  },
  {
   "cell_type": "code",
   "execution_count": 14,
   "id": "bd81ebcd",
   "metadata": {},
   "outputs": [
    {
     "data": {
      "text/plain": [
       "0        79.11\n",
       "1        78.71\n",
       "2        77.99\n",
       "3        78.63\n",
       "4        79.02\n",
       "         ...  \n",
       "93607    71.58\n",
       "93608    69.86\n",
       "93609    70.06\n",
       "93610    69.82\n",
       "93611    69.85\n",
       "Name: Close, Length: 93587, dtype: float64"
      ]
     },
     "execution_count": 14,
     "metadata": {},
     "output_type": "execute_result"
    }
   ],
   "source": [
    "df_training.iloc[:, 4]"
   ]
  },
  {
   "cell_type": "code",
   "execution_count": 15,
   "id": "7264911a",
   "metadata": {},
   "outputs": [],
   "source": [
    "df_training = df_training.iloc[:, 4].values"
   ]
  },
  {
   "cell_type": "code",
   "execution_count": 16,
   "id": "4f42cea1",
   "metadata": {},
   "outputs": [
    {
     "data": {
      "text/plain": [
       "numpy.ndarray"
      ]
     },
     "execution_count": 16,
     "metadata": {},
     "output_type": "execute_result"
    }
   ],
   "source": [
    "type(df_training)"
   ]
  },
  {
   "cell_type": "code",
   "execution_count": 17,
   "id": "b4f296cd",
   "metadata": {},
   "outputs": [],
   "source": [
    "from sklearn.preprocessing import MinMaxScaler"
   ]
  },
  {
   "cell_type": "code",
   "execution_count": 18,
   "id": "e265a308",
   "metadata": {},
   "outputs": [],
   "source": [
    "scaler = MinMaxScaler()"
   ]
  },
  {
   "cell_type": "code",
   "execution_count": 19,
   "id": "74be690c",
   "metadata": {},
   "outputs": [],
   "source": [
    "df_training = scaler.fit_transform(df_training.reshape(-1, 1))"
   ]
  },
  {
   "cell_type": "code",
   "execution_count": 20,
   "id": "3d34c68f",
   "metadata": {},
   "outputs": [],
   "source": [
    "x_df_training = []\n",
    "\n",
    "y_df_training =[]"
   ]
  },
  {
   "cell_type": "code",
   "execution_count": 21,
   "id": "7504c376",
   "metadata": {},
   "outputs": [],
   "source": [
    "for i in range(40, len(df_training)):\n",
    "    x_df_training.append(df_training[i-40:i, 0])\n",
    "    y_df_training.append(df_training[i, 0])"
   ]
  },
  {
   "cell_type": "code",
   "execution_count": 22,
   "id": "d25b38cf",
   "metadata": {},
   "outputs": [],
   "source": [
    "x_df_training = np.array(x_df_training)\n",
    "\n",
    "y_df_training = np.array(y_df_training)"
   ]
  },
  {
   "cell_type": "code",
   "execution_count": 23,
   "id": "c52fc697",
   "metadata": {},
   "outputs": [
    {
     "name": "stdout",
     "output_type": "stream",
     "text": [
      "(93547, 40)\n",
      "(93547,)\n"
     ]
    }
   ],
   "source": [
    "print(x_df_training.shape)\n",
    "\n",
    "print(y_df_training.shape)"
   ]
  },
  {
   "cell_type": "code",
   "execution_count": 24,
   "id": "e5d059c6",
   "metadata": {},
   "outputs": [],
   "source": [
    "x_df_training = np.reshape(x_df_training, (x_df_training.shape[0],x_df_training.shape[1],1))"
   ]
  },
  {
   "cell_type": "code",
   "execution_count": 25,
   "id": "76c65996",
   "metadata": {},
   "outputs": [
    {
     "name": "stdout",
     "output_type": "stream",
     "text": [
      "(93547, 40, 1)\n"
     ]
    }
   ],
   "source": [
    "print(x_df_training.shape)"
   ]
  },
  {
   "cell_type": "code",
   "execution_count": 26,
   "id": "465bcbab",
   "metadata": {},
   "outputs": [],
   "source": [
    "from tensorflow.keras.models import Sequential\n",
    "from tensorflow.keras.layers import Dense\n",
    "from tensorflow.keras.layers import LSTM\n",
    "from tensorflow.keras.layers import Dropout"
   ]
  },
  {
   "cell_type": "code",
   "execution_count": 27,
   "id": "37309f63",
   "metadata": {},
   "outputs": [],
   "source": [
    "rnn = Sequential()"
   ]
  },
  {
   "cell_type": "code",
   "execution_count": 28,
   "id": "cd690c08",
   "metadata": {},
   "outputs": [],
   "source": [
    "rnn.add(LSTM(units = 32, return_sequences = True, input_shape = (x_df_training.shape[1], 1)))"
   ]
  },
  {
   "cell_type": "code",
   "execution_count": 29,
   "id": "a8345c0b",
   "metadata": {},
   "outputs": [],
   "source": [
    "rnn.add(Dropout(0.2))"
   ]
  },
  {
   "cell_type": "code",
   "execution_count": 30,
   "id": "ad986750",
   "metadata": {},
   "outputs": [],
   "source": [
    "rnn.add(LSTM(units = 32, return_sequences = True))\n",
    "\n",
    "rnn.add(Dropout(0.2))\n",
    "\n",
    "rnn.add(LSTM(units = 32, return_sequences = True))\n",
    "\n",
    "rnn.add(Dropout(0.2))\n",
    "\n",
    "rnn.add(LSTM(units = 32))\n",
    "\n",
    "rnn.add(Dropout(0.2))"
   ]
  },
  {
   "cell_type": "code",
   "execution_count": 31,
   "id": "ed68df90",
   "metadata": {},
   "outputs": [],
   "source": [
    "rnn.add(Dense(units = 1))"
   ]
  },
  {
   "cell_type": "code",
   "execution_count": 32,
   "id": "ce647ced",
   "metadata": {},
   "outputs": [],
   "source": [
    "rnn.compile(optimizer = 'adam', loss = 'mean_squared_error')"
   ]
  },
  {
   "cell_type": "code",
   "execution_count": 33,
   "id": "a7a0408b",
   "metadata": {},
   "outputs": [
    {
     "name": "stdout",
     "output_type": "stream",
     "text": [
      "Epoch 1/100\n",
      "2924/2924 [==============================] - 263s 85ms/step - loss: 4.6270e-04\n",
      "Epoch 2/100\n",
      "2924/2924 [==============================] - 250s 85ms/step - loss: 2.7288e-04\n",
      "Epoch 3/100\n",
      "2924/2924 [==============================] - 251s 86ms/step - loss: 2.3358e-04\n",
      "Epoch 4/100\n",
      "2924/2924 [==============================] - 251s 86ms/step - loss: 2.0987e-04\n",
      "Epoch 5/100\n",
      "2924/2924 [==============================] - 251s 86ms/step - loss: 1.9811e-04\n",
      "Epoch 6/100\n",
      "2924/2924 [==============================] - 249s 85ms/step - loss: 1.7745e-04\n",
      "Epoch 7/100\n",
      "2924/2924 [==============================] - 233s 80ms/step - loss: 1.7062e-04\n",
      "Epoch 8/100\n",
      "2924/2924 [==============================] - 242s 83ms/step - loss: 1.6250e-04\n",
      "Epoch 9/100\n",
      "2924/2924 [==============================] - 245s 84ms/step - loss: 1.5006e-04\n",
      "Epoch 10/100\n",
      "2924/2924 [==============================] - 242s 83ms/step - loss: 1.5292e-04\n",
      "Epoch 11/100\n",
      "2924/2924 [==============================] - 239s 82ms/step - loss: 1.4655e-04\n",
      "Epoch 12/100\n",
      "2924/2924 [==============================] - 241s 83ms/step - loss: 1.4659e-04\n",
      "Epoch 13/100\n",
      "2924/2924 [==============================] - 243s 83ms/step - loss: 1.5055e-04\n",
      "Epoch 14/100\n",
      "2924/2924 [==============================] - 232s 79ms/step - loss: 1.4311e-04\n",
      "Epoch 15/100\n",
      "2924/2924 [==============================] - 238s 81ms/step - loss: 1.3281e-04\n",
      "Epoch 16/100\n",
      "2924/2924 [==============================] - 240s 82ms/step - loss: 1.3596e-04\n",
      "Epoch 17/100\n",
      "2924/2924 [==============================] - 238s 81ms/step - loss: 1.3620e-04\n",
      "Epoch 18/100\n",
      "2924/2924 [==============================] - 235s 80ms/step - loss: 1.3619e-04\n",
      "Epoch 19/100\n",
      "2924/2924 [==============================] - 237s 81ms/step - loss: 1.4003e-04\n",
      "Epoch 20/100\n",
      "2924/2924 [==============================] - 235s 80ms/step - loss: 1.3656e-04\n",
      "Epoch 21/100\n",
      "2924/2924 [==============================] - 239s 82ms/step - loss: 1.3990e-04\n",
      "Epoch 22/100\n",
      "2924/2924 [==============================] - 231s 79ms/step - loss: 1.3256e-04\n",
      "Epoch 23/100\n",
      "2924/2924 [==============================] - 213s 73ms/step - loss: 1.3242e-04\n",
      "Epoch 24/100\n",
      "2924/2924 [==============================] - 232s 79ms/step - loss: 1.3576e-04\n",
      "Epoch 25/100\n",
      "2924/2924 [==============================] - 226s 77ms/step - loss: 1.3738e-04\n",
      "Epoch 26/100\n",
      "2924/2924 [==============================] - 233s 80ms/step - loss: 1.3916e-04\n",
      "Epoch 27/100\n",
      "2924/2924 [==============================] - 223s 76ms/step - loss: 1.2790e-04\n",
      "Epoch 28/100\n",
      "2924/2924 [==============================] - 231s 79ms/step - loss: 1.3597e-04\n",
      "Epoch 29/100\n",
      "2924/2924 [==============================] - 235s 80ms/step - loss: 1.2292e-04\n",
      "Epoch 30/100\n",
      "2924/2924 [==============================] - 233s 80ms/step - loss: 1.2755e-04\n",
      "Epoch 31/100\n",
      "2924/2924 [==============================] - 234s 80ms/step - loss: 1.3143e-04\n",
      "Epoch 32/100\n",
      "2924/2924 [==============================] - 235s 81ms/step - loss: 1.3123e-04\n",
      "Epoch 33/100\n",
      "2924/2924 [==============================] - 235s 80ms/step - loss: 1.2749e-04\n",
      "Epoch 34/100\n",
      "2924/2924 [==============================] - 235s 80ms/step - loss: 1.2385e-04\n",
      "Epoch 35/100\n",
      "2924/2924 [==============================] - 235s 80ms/step - loss: 1.2326e-04\n",
      "Epoch 36/100\n",
      "2924/2924 [==============================] - 241s 82ms/step - loss: 1.1945e-04\n",
      "Epoch 37/100\n",
      "2924/2924 [==============================] - 236s 81ms/step - loss: 1.2802e-04\n",
      "Epoch 38/100\n",
      "2924/2924 [==============================] - 235s 80ms/step - loss: 1.1844e-04\n",
      "Epoch 39/100\n",
      "2924/2924 [==============================] - 235s 80ms/step - loss: 1.2470e-04\n",
      "Epoch 40/100\n",
      "2924/2924 [==============================] - 235s 80ms/step - loss: 1.2623e-04\n",
      "Epoch 41/100\n",
      "2924/2924 [==============================] - 235s 80ms/step - loss: 1.2733e-04\n",
      "Epoch 42/100\n",
      "2924/2924 [==============================] - 236s 81ms/step - loss: 1.2052e-04\n",
      "Epoch 43/100\n",
      "2924/2924 [==============================] - 236s 81ms/step - loss: 1.1816e-04\n",
      "Epoch 44/100\n",
      "2924/2924 [==============================] - 236s 81ms/step - loss: 1.2455e-04\n",
      "Epoch 45/100\n",
      "2924/2924 [==============================] - 235s 80ms/step - loss: 1.2589e-04\n",
      "Epoch 46/100\n",
      "2924/2924 [==============================] - 235s 80ms/step - loss: 1.2109e-04\n",
      "Epoch 47/100\n",
      "2924/2924 [==============================] - 236s 81ms/step - loss: 1.2530e-04\n",
      "Epoch 48/100\n",
      "2924/2924 [==============================] - 235s 81ms/step - loss: 1.2068e-04\n",
      "Epoch 49/100\n",
      "2924/2924 [==============================] - 234s 80ms/step - loss: 1.2856e-04\n",
      "Epoch 50/100\n",
      "2924/2924 [==============================] - 236s 81ms/step - loss: 1.2191e-04\n",
      "Epoch 51/100\n",
      "2924/2924 [==============================] - 235s 80ms/step - loss: 1.2291e-04\n",
      "Epoch 52/100\n",
      "2924/2924 [==============================] - 236s 81ms/step - loss: 1.1712e-04\n",
      "Epoch 53/100\n",
      "2924/2924 [==============================] - 235s 80ms/step - loss: 1.1309e-04\n",
      "Epoch 54/100\n",
      "2924/2924 [==============================] - 235s 80ms/step - loss: 1.1971e-04\n",
      "Epoch 55/100\n",
      "2924/2924 [==============================] - 235s 80ms/step - loss: 1.1965e-04\n",
      "Epoch 56/100\n",
      "2924/2924 [==============================] - 235s 80ms/step - loss: 1.2258e-04\n",
      "Epoch 57/100\n",
      "2924/2924 [==============================] - 235s 80ms/step - loss: 1.1712e-04\n",
      "Epoch 58/100\n",
      "2924/2924 [==============================] - 236s 81ms/step - loss: 1.2421e-04\n",
      "Epoch 59/100\n",
      "2924/2924 [==============================] - 235s 80ms/step - loss: 1.2237e-04\n",
      "Epoch 60/100\n",
      "2924/2924 [==============================] - 234s 80ms/step - loss: 1.1745e-04\n",
      "Epoch 61/100\n",
      "2924/2924 [==============================] - 235s 80ms/step - loss: 1.1952e-04\n",
      "Epoch 62/100\n",
      "2924/2924 [==============================] - 235s 80ms/step - loss: 1.1870e-04\n",
      "Epoch 63/100\n",
      "2924/2924 [==============================] - 235s 80ms/step - loss: 1.1709e-04\n",
      "Epoch 64/100\n",
      "2924/2924 [==============================] - 237s 81ms/step - loss: 1.1736e-04\n",
      "Epoch 65/100\n",
      "2924/2924 [==============================] - 235s 80ms/step - loss: 1.1481e-04\n",
      "Epoch 66/100\n",
      "2924/2924 [==============================] - 236s 81ms/step - loss: 1.1617e-04\n",
      "Epoch 67/100\n",
      "2924/2924 [==============================] - 235s 80ms/step - loss: 1.2436e-04\n",
      "Epoch 68/100\n",
      "2924/2924 [==============================] - 235s 80ms/step - loss: 1.1437e-04\n",
      "Epoch 69/100\n",
      "2924/2924 [==============================] - 235s 80ms/step - loss: 1.1833e-04\n",
      "Epoch 70/100\n",
      "2924/2924 [==============================] - 235s 80ms/step - loss: 1.1628e-04\n",
      "Epoch 71/100\n",
      "2924/2924 [==============================] - 235s 81ms/step - loss: 1.1999e-04\n",
      "Epoch 72/100\n",
      "2924/2924 [==============================] - 235s 80ms/step - loss: 1.1341e-04\n",
      "Epoch 73/100\n",
      "2924/2924 [==============================] - 237s 81ms/step - loss: 1.2086e-04\n",
      "Epoch 74/100\n",
      "2924/2924 [==============================] - 238s 81ms/step - loss: 1.1464e-04\n",
      "Epoch 75/100\n",
      "2924/2924 [==============================] - 236s 81ms/step - loss: 1.1046e-04\n",
      "Epoch 76/100\n",
      "2924/2924 [==============================] - 235s 80ms/step - loss: 1.1586e-04\n",
      "Epoch 77/100\n",
      "2924/2924 [==============================] - 235s 80ms/step - loss: 1.1809e-04\n",
      "Epoch 78/100\n",
      "2924/2924 [==============================] - 237s 81ms/step - loss: 1.2092e-04\n",
      "Epoch 79/100\n",
      "2924/2924 [==============================] - 235s 80ms/step - loss: 1.1845e-04\n",
      "Epoch 80/100\n",
      "2924/2924 [==============================] - 238s 81ms/step - loss: 1.2106e-04\n",
      "Epoch 81/100\n",
      "2924/2924 [==============================] - 237s 81ms/step - loss: 1.1061e-04\n",
      "Epoch 82/100\n",
      "2924/2924 [==============================] - 239s 82ms/step - loss: 1.1243e-04\n",
      "Epoch 83/100\n",
      "2924/2924 [==============================] - 242s 83ms/step - loss: 1.1064e-04\n",
      "Epoch 84/100\n",
      "2924/2924 [==============================] - 238s 81ms/step - loss: 1.1232e-04\n",
      "Epoch 85/100\n",
      "2924/2924 [==============================] - 233s 80ms/step - loss: 1.0875e-04\n",
      "Epoch 86/100\n",
      "2924/2924 [==============================] - 249s 85ms/step - loss: 1.1923e-04\n",
      "Epoch 87/100\n",
      "2924/2924 [==============================] - 245s 84ms/step - loss: 1.1159e-04\n",
      "Epoch 88/100\n",
      "2924/2924 [==============================] - 246s 84ms/step - loss: 1.1936e-04\n",
      "Epoch 89/100\n",
      "2924/2924 [==============================] - 245s 84ms/step - loss: 1.1715e-04\n",
      "Epoch 90/100\n",
      "2924/2924 [==============================] - 244s 83ms/step - loss: 1.1289e-04\n",
      "Epoch 91/100\n",
      "2924/2924 [==============================] - 248s 85ms/step - loss: 1.1454e-04\n",
      "Epoch 92/100\n",
      "2924/2924 [==============================] - 245s 84ms/step - loss: 1.0907e-04\n",
      "Epoch 93/100\n",
      "2924/2924 [==============================] - 240s 82ms/step - loss: 1.1906e-04\n",
      "Epoch 94/100\n",
      "2924/2924 [==============================] - 242s 83ms/step - loss: 1.1200e-04\n",
      "Epoch 95/100\n",
      "2924/2924 [==============================] - 239s 82ms/step - loss: 1.0568e-04\n",
      "Epoch 96/100\n",
      "2924/2924 [==============================] - 224s 77ms/step - loss: 1.1469e-04\n",
      "Epoch 97/100\n",
      "2924/2924 [==============================] - 216s 74ms/step - loss: 1.1494e-04\n",
      "Epoch 98/100\n",
      "2924/2924 [==============================] - 242s 83ms/step - loss: 1.1071e-04\n",
      "Epoch 99/100\n",
      "2924/2924 [==============================] - 244s 83ms/step - loss: 1.1090e-04\n",
      "Epoch 100/100\n",
      "2924/2924 [==============================] - 243s 83ms/step - loss: 1.0993e-04\n"
     ]
    },
    {
     "data": {
      "text/plain": [
       "<keras.callbacks.History at 0x1b9344659a0>"
      ]
     },
     "execution_count": 33,
     "metadata": {},
     "output_type": "execute_result"
    }
   ],
   "source": [
    "rnn.fit(x_df_training, y_df_training, epochs = 100, batch_size = 32)"
   ]
  },
  {
   "cell_type": "code",
   "execution_count": 35,
   "id": "28d0e02a",
   "metadata": {},
   "outputs": [],
   "source": [
    "df_test = pd.read_csv('all_stocks_2017-01-01_to_2018-01-01.csv')"
   ]
  },
  {
   "cell_type": "code",
   "execution_count": 37,
   "id": "a128bb00",
   "metadata": {},
   "outputs": [
    {
     "data": {
      "text/plain": [
       "Date      False\n",
       "Open       True\n",
       "High       True\n",
       "Low        True\n",
       "Close     False\n",
       "Volume    False\n",
       "Name      False\n",
       "dtype: bool"
      ]
     },
     "execution_count": 37,
     "metadata": {},
     "output_type": "execute_result"
    }
   ],
   "source": [
    "df_test.isnull().any()"
   ]
  },
  {
   "cell_type": "code",
   "execution_count": 38,
   "id": "a8b91fd6",
   "metadata": {},
   "outputs": [
    {
     "data": {
      "text/plain": [
       "Date       0\n",
       "Open      24\n",
       "High       9\n",
       "Low       19\n",
       "Close      0\n",
       "Volume     0\n",
       "Name       0\n",
       "dtype: int64"
      ]
     },
     "execution_count": 38,
     "metadata": {},
     "output_type": "execute_result"
    }
   ],
   "source": [
    "df_test.isnull().sum()"
   ]
  },
  {
   "cell_type": "code",
   "execution_count": 39,
   "id": "feb92c2f",
   "metadata": {},
   "outputs": [],
   "source": [
    "df_test = df_test.dropna(axis=0)"
   ]
  },
  {
   "cell_type": "code",
   "execution_count": 41,
   "id": "1d85af94",
   "metadata": {},
   "outputs": [
    {
     "data": {
      "text/html": [
       "<div>\n",
       "<style scoped>\n",
       "    .dataframe tbody tr th:only-of-type {\n",
       "        vertical-align: middle;\n",
       "    }\n",
       "\n",
       "    .dataframe tbody tr th {\n",
       "        vertical-align: top;\n",
       "    }\n",
       "\n",
       "    .dataframe thead th {\n",
       "        text-align: right;\n",
       "    }\n",
       "</style>\n",
       "<table border=\"1\" class=\"dataframe\">\n",
       "  <thead>\n",
       "    <tr style=\"text-align: right;\">\n",
       "      <th></th>\n",
       "      <th>Date</th>\n",
       "      <th>Open</th>\n",
       "      <th>High</th>\n",
       "      <th>Low</th>\n",
       "      <th>Close</th>\n",
       "      <th>Volume</th>\n",
       "      <th>Name</th>\n",
       "    </tr>\n",
       "  </thead>\n",
       "  <tbody>\n",
       "    <tr>\n",
       "      <th>0</th>\n",
       "      <td>2017-01-03</td>\n",
       "      <td>178.83</td>\n",
       "      <td>180.0</td>\n",
       "      <td>177.22</td>\n",
       "      <td>178.05</td>\n",
       "      <td>2510055</td>\n",
       "      <td>MMM</td>\n",
       "    </tr>\n",
       "    <tr>\n",
       "      <th>1</th>\n",
       "      <td>2017-01-04</td>\n",
       "      <td>178.03</td>\n",
       "      <td>178.9</td>\n",
       "      <td>177.61</td>\n",
       "      <td>178.32</td>\n",
       "      <td>1541985</td>\n",
       "      <td>MMM</td>\n",
       "    </tr>\n",
       "  </tbody>\n",
       "</table>\n",
       "</div>"
      ],
      "text/plain": [
       "         Date    Open   High     Low   Close   Volume Name\n",
       "0  2017-01-03  178.83  180.0  177.22  178.05  2510055  MMM\n",
       "1  2017-01-04  178.03  178.9  177.61  178.32  1541985  MMM"
      ]
     },
     "execution_count": 41,
     "metadata": {},
     "output_type": "execute_result"
    }
   ],
   "source": [
    "df_test.head(2)"
   ]
  },
  {
   "cell_type": "code",
   "execution_count": 40,
   "id": "f691c673",
   "metadata": {},
   "outputs": [
    {
     "data": {
      "text/plain": [
       "0       178.05\n",
       "1       178.32\n",
       "2       177.71\n",
       "3       178.23\n",
       "4       177.27\n",
       "         ...  \n",
       "7776     71.58\n",
       "7777     69.86\n",
       "7778     70.06\n",
       "7779     69.82\n",
       "7780     69.85\n",
       "Name: Close, Length: 7757, dtype: float64"
      ]
     },
     "execution_count": 40,
     "metadata": {},
     "output_type": "execute_result"
    }
   ],
   "source": [
    "df_test.iloc[:, 4]"
   ]
  },
  {
   "cell_type": "code",
   "execution_count": 43,
   "id": "34581879",
   "metadata": {},
   "outputs": [],
   "source": [
    "df_test = df_test.iloc[:, 4].values"
   ]
  },
  {
   "cell_type": "code",
   "execution_count": 44,
   "id": "d1ad8b8b",
   "metadata": {},
   "outputs": [
    {
     "name": "stdout",
     "output_type": "stream",
     "text": [
      "(7757,)\n"
     ]
    }
   ],
   "source": [
    "print(df_test.shape)"
   ]
  },
  {
   "cell_type": "code",
   "execution_count": 45,
   "id": "04ad7c46",
   "metadata": {},
   "outputs": [
    {
     "data": {
      "text/plain": [
       "[<matplotlib.lines.Line2D at 0x1b90af858b0>]"
      ]
     },
     "execution_count": 45,
     "metadata": {},
     "output_type": "execute_result"
    },
    {
     "data": {
      "image/png": "[encoded data removed]",
      "text/plain": [
       "<Figure size 432x288 with 1 Axes>"
      ]
     },
     "metadata": {
      "needs_background": "light"
     },
     "output_type": "display_data"
    }
   ],
   "source": [
    "plt.plot(df_test)"
   ]
  },
  {
   "cell_type": "code",
   "execution_count": 47,
   "id": "75aef441",
   "metadata": {},
   "outputs": [],
   "source": [
    "unscaled_df_training = pd.read_csv('all_stocks_2006-01-01_to_2018-01-01.csv')\n",
    "unscaled_df_test =  pd.read_csv('all_stocks_2017-01-01_to_2018-01-01.csv')"
   ]
  },
  {
   "cell_type": "code",
   "execution_count": 48,
   "id": "5c0f987b",
   "metadata": {},
   "outputs": [],
   "source": [
    "df=pd.concat((unscaled_df_training['Close'],unscaled_df_test['Close']), axis = 0)"
   ]
  },
  {
   "cell_type": "code",
   "execution_count": 49,
   "id": "e525d222",
   "metadata": {},
   "outputs": [],
   "source": [
    "x_df_test = df[len(df)-len(df_test)-40:].values"
   ]
  },
  {
   "cell_type": "code",
   "execution_count": 50,
   "id": "7a6eafb3",
   "metadata": {},
   "outputs": [
    {
     "data": {
      "text/plain": [
       "7797"
      ]
     },
     "execution_count": 50,
     "metadata": {},
     "output_type": "execute_result"
    }
   ],
   "source": [
    "len(x_df_test)"
   ]
  },
  {
   "cell_type": "code",
   "execution_count": 51,
   "id": "2bc9f014",
   "metadata": {},
   "outputs": [],
   "source": [
    "x_df_test = np.reshape(x_df_test, (-1, 1))"
   ]
  },
  {
   "cell_type": "code",
   "execution_count": 52,
   "id": "6b506194",
   "metadata": {},
   "outputs": [],
   "source": [
    "x_df_test = scaler.transform(x_df_test)"
   ]
  },
  {
   "cell_type": "code",
   "execution_count": 53,
   "id": "dfe0e6bc",
   "metadata": {},
   "outputs": [],
   "source": [
    "all_x_df_test = []\n",
    "\n",
    "for i in range(40, len(x_df_test)):\n",
    "\n",
    "    all_x_df_test.append(x_df_test[i-40:i, 0])\n",
    "\n",
    "all_x_df_test = np.array(all_x_df_test)"
   ]
  },
  {
   "cell_type": "code",
   "execution_count": 54,
   "id": "f2a301c8",
   "metadata": {},
   "outputs": [],
   "source": [
    "all_x_df_test = np.reshape(all_x_df_test, (all_x_df_test.shape[0], all_x_df_test.shape[1],1))"
   ]
  },
  {
   "cell_type": "code",
   "execution_count": 55,
   "id": "7dc16c02",
   "metadata": {},
   "outputs": [
    {
     "name": "stdout",
     "output_type": "stream",
     "text": [
      "243/243 [==============================] - 14s 38ms/step\n"
     ]
    }
   ],
   "source": [
    "predictions = rnn.predict(all_x_df_test)"
   ]
  },
  {
   "cell_type": "code",
   "execution_count": 56,
   "id": "9b232221",
   "metadata": {},
   "outputs": [
    {
     "data": {
      "text/plain": [
       "[<matplotlib.lines.Line2D at 0x1b90c59d2e0>]"
      ]
     },
     "execution_count": 56,
     "metadata": {},
     "output_type": "execute_result"
    },
    {
     "data": {
      "image/png": "[encoded data removed]",
      "text/plain": [
       "<Figure size 432x288 with 1 Axes>"
      ]
     },
     "metadata": {
      "needs_background": "light"
     },
     "output_type": "display_data"
    }
   ],
   "source": [
    "plt.plot(predictions) "
   ]
  },
  {
   "cell_type": "code",
   "execution_count": 57,
   "id": "d88db79b",
   "metadata": {},
   "outputs": [
    {
     "data": {
      "text/plain": [
       "[<matplotlib.lines.Line2D at 0x1b90d5d1f70>]"
      ]
     },
     "execution_count": 57,
     "metadata": {},
     "output_type": "execute_result"
    },
    {
     "data": {
      "image/png": "[encoded data removed]",
      "text/plain": [
       "<Figure size 432x288 with 1 Axes>"
      ]
     },
     "metadata": {
      "needs_background": "light"
     },
     "output_type": "display_data"
    }
   ],
   "source": [
    "unscaled_predictions = scaler.inverse_transform(predictions)\n",
    "\n",
    "plt.plot(unscaled_predictions)"
   ]
  },
  {
   "cell_type": "code",
   "execution_count": 58,
   "id": "1f6babd2",
   "metadata": {},
   "outputs": [
    {
     "data": {
      "text/plain": [
       "<matplotlib.legend.Legend at 0x1b90d640fa0>"
      ]
     },
     "execution_count": 58,
     "metadata": {},
     "output_type": "execute_result"
    },
    {
     "data": {
      "image/png": "[encoded data removed]",
      "text/plain": [
       "<Figure size 432x288 with 1 Axes>"
      ]
     },
     "metadata": {
      "needs_background": "light"
     },
     "output_type": "display_data"
    }
   ],
   "source": [
    "plt.plot(unscaled_predictions, color = '#135485', label = \"Predictions\")\n",
    "\n",
    "plt.plot(df_test, color = 'black', label = \"Real Data\")\n",
    "\n",
    "plt.title('Stocks Predictions from 2017-2018')\n",
    "\n",
    "plt.legend()"
   ]
  },
  {
   "cell_type": "code",
   "execution_count": 60,
   "id": "2436a290",
   "metadata": {},
   "outputs": [
    {
     "name": "stdout",
     "output_type": "stream",
     "text": [
      "The stock trading prediction for first jan 2017-2018:  [173.73262]\n",
      "The real stock trading prediction for first jan 2017-2018:  178.05\n"
     ]
    }
   ],
   "source": [
    "print(\"The stock trading prediction for jan 2017: \",unscaled_predictions[0])\n",
    "print(\"The real stock trading prediction for jan 2017: \",df_test[0])"
   ]
  },
  {
   "cell_type": "code",
   "execution_count": 61,
   "id": "b32617ab",
   "metadata": {},
   "outputs": [
    {
     "name": "stdout",
     "output_type": "stream",
     "text": [
      "The last trading day price prediction is for Dec 2017 is:  [187.03514]\n",
      "The real last trading day price for Dec 2017 is:  175.17\n"
     ]
    }
   ],
   "source": [
    "print(\"The last trading day price prediction is for Dec 2017 is: \",unscaled_predictions[20])\n",
    "print(\"The real last trading day price for Dec 2017 is: \",df_test[20])"
   ]
  },
  {
   "cell_type": "code",
   "execution_count": null,
   "id": "2f0946ad",
   "metadata": {},
   "outputs": [],
   "source": []
  }
 ],
 "metadata": {
  "kernelspec": {
   "display_name": "Python 3 (ipykernel)",
   "language": "python",
   "name": "python3"
  },
  "language_info": {
   "codemirror_mode": {
    "name": "ipython",
    "version": 3
   },
   "file_extension": ".py",
   "mimetype": "text/x-python",
   "name": "python",
   "nbconvert_exporter": "python",
   "pygments_lexer": "ipython3",
   "version": "3.9.12"
  }
 },
 "nbformat": 4,
 "nbformat_minor": 5
}
